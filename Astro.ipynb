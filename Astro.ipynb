{
  "nbformat": 4,
  "nbformat_minor": 0,
  "metadata": {
    "colab": {
      "name": "Astro.ipynb",
      "provenance": [],
      "authorship_tag": "ABX9TyOsOVlpkJW5dRQ+D1HabLbh",
      "include_colab_link": true
    },
    "kernelspec": {
      "name": "python3",
      "display_name": "Python 3"
    },
    "language_info": {
      "name": "python"
    }
  },
  "cells": [
    {
      "cell_type": "markdown",
      "metadata": {
        "id": "view-in-github",
        "colab_type": "text"
      },
      "source": [
        "<a href=\"https://colab.research.google.com/github/YanaGlad/Astro/blob/master/Astro.ipynb\" target=\"_parent\"><img src=\"https://colab.research.google.com/assets/colab-badge.svg\" alt=\"Open In Colab\"/></a>"
      ]
    },
    {
      "cell_type": "markdown",
      "source": [
        "2D representation"
      ],
      "metadata": {
        "id": "bnzeYp7yiibo"
      }
    },
    {
      "cell_type": "code",
      "source": [
        "import turtle\n",
        "\n",
        "class SolarSystem:\n",
        "    def __init__(self, width, height):\n",
        "        self.solar_system = turtle.Screen()\n",
        "        self.solar_system.tracer(0)\n",
        "        self.solar_system.setup(width, height)\n",
        "        self.solar_system.bgcolor(\"black\")\n",
        "        self.bodies = []\n",
        "\n",
        "    def add_body(self, body):\n",
        "        self.bodies.append(body)\n",
        "        \n",
        "    def remove_body(self, body):\n",
        "        self.bodies.remove(body)\n",
        "\n",
        "  "
      ],
      "metadata": {
        "id": "C3MPHQOSiNQ4"
      },
      "execution_count": 12,
      "outputs": []
    },
    {
      "cell_type": "markdown",
      "source": [
        "3D representation"
      ],
      "metadata": {
        "id": "B68Xxh9vimwd"
      }
    },
    {
      "cell_type": "code",
      "execution_count": 8,
      "metadata": {
        "id": "BRmgEnjZctcz"
      },
      "outputs": [],
      "source": [
        "class Vector:\n",
        "    def __init__(self, x=0, y=0, z=0):\n",
        "        self.x = x\n",
        "        self.y = y\n",
        "        self.z = z\n",
        "        \n",
        "    #def __repr__(self):\n",
        "     #   return f\"Vector({self.x}, {self.y}, {self.z})\"\n",
        "\n",
        "    def __str__(self):\n",
        "        return f\"{self.x}i + {self.y}j + {self.z}k\"\n",
        "\n",
        "    def __getitem__(self, item):\n",
        "        if item == 0:\n",
        "            return self.x\n",
        "        elif item == 1:\n",
        "            return self.y\n",
        "        elif item == 2:\n",
        "            return self.z\n",
        "        else:\n",
        "            raise IndexError(\"There are only three elements in the vector\")\n"
      ]
    },
    {
      "cell_type": "code",
      "source": [
        "test = Vector(3, 5, 9)\n",
        "print(test)\n",
        "print(repr(test))\n",
        "test = Vector(2, 2)\n",
        "print(test)\n",
        "print(repr(test))\n",
        "test = Vector(y=5, z=3)\n",
        "print(test)\n",
        "print(repr(test))"
      ],
      "metadata": {
        "colab": {
          "base_uri": "https://localhost:8080/"
        },
        "id": "FAerw9r9hiCw",
        "outputId": "fbb6156e-d28d-4b2c-c8af-3f30d44871a8"
      },
      "execution_count": 9,
      "outputs": [
        {
          "output_type": "stream",
          "name": "stdout",
          "text": [
            "3i + 5j + 9k\n",
            "<__main__.Vector object at 0x7fd6a8c22290>\n",
            "2i + 2j + 0k\n",
            "<__main__.Vector object at 0x7fd6a8c135d0>\n",
            "0i + 5j + 3k\n",
            "<__main__.Vector object at 0x7fd6a8c13190>\n"
          ]
        }
      ]
    },
    {
      "cell_type": "code",
      "source": [
        "test = Vector(3, 5, 9)\n",
        "print(test[0])"
      ],
      "metadata": {
        "colab": {
          "base_uri": "https://localhost:8080/"
        },
        "id": "vzLy_jOphlv4",
        "outputId": "9c094566-f681-432c-88c2-8fbd05ee4e39"
      },
      "execution_count": 10,
      "outputs": [
        {
          "output_type": "stream",
          "name": "stdout",
          "text": [
            "3\n"
          ]
        }
      ]
    },
    {
      "cell_type": "code",
      "source": [
        ""
      ],
      "metadata": {
        "id": "_1M-DXKchxOH"
      },
      "execution_count": null,
      "outputs": []
    }
  ]
}